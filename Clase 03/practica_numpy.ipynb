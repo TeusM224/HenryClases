{
 "cells": [
  {
   "cell_type": "markdown",
   "metadata": {},
   "source": [
    "Práctica numpy"
   ]
  },
  {
   "cell_type": "markdown",
   "metadata": {},
   "source": [
    "Lista tradicional vs arreglos numpy"
   ]
  },
  {
   "cell_type": "code",
   "execution_count": null,
   "metadata": {},
   "outputs": [],
   "source": [
    "lista = [2,4.3,'Hola']\n",
    "lista[2]"
   ]
  },
  {
   "cell_type": "code",
   "execution_count": null,
   "metadata": {},
   "outputs": [],
   "source": [
    "matriz = [[1,2,3],\n",
    "          [4,5,6],\n",
    "          [7,8,9]]\n",
    "print(matriz[1][1])"
   ]
  },
  {
   "cell_type": "code",
   "execution_count": null,
   "metadata": {},
   "outputs": [],
   "source": [
    "import numpy as np\n",
    "numeros = [2,56,7,8]\n",
    "#a = np.array([2,56,7,8])\n",
    "a = np.array(numeros)\n",
    "#print(type(a))\n",
    "print(a)"
   ]
  },
  {
   "cell_type": "code",
   "execution_count": null,
   "metadata": {},
   "outputs": [],
   "source": [
    "#secuencia = np.arange(3,15,2)\n",
    "secuencia = np.linspace(2, 10, 4)\n",
    "secuencia"
   ]
  },
  {
   "cell_type": "code",
   "execution_count": null,
   "metadata": {},
   "outputs": [],
   "source": [
    "#ceros = np.zeros((3,5))\n",
    "#ceros\n",
    "#unos = np.ones(5)\n",
    "#unos\n",
    "custom = np.full((2,5), 5)\n",
    "custom2 = custom ** 2\n",
    "custom2"
   ]
  },
  {
   "cell_type": "code",
   "execution_count": null,
   "metadata": {},
   "outputs": [],
   "source": [
    "base = np.linspace(2,6,4)\n",
    "#base\n",
    "print(np.full_like(base,np.pi))"
   ]
  },
  {
   "cell_type": "code",
   "execution_count": null,
   "metadata": {},
   "outputs": [],
   "source": [
    "#azar = np.random.rand(5,3)\n",
    "azar = np.random.randn(5,3)\n",
    "print(azar)\n"
   ]
  },
  {
   "cell_type": "code",
   "execution_count": 53,
   "metadata": {},
   "outputs": [
    {
     "data": {
      "text/plain": [
       "array([[-0.47818278,  0.0440484 , -0.53872928,  0.85424626],\n",
       "       [-0.45215686,  1.19078856, -1.6874638 , -0.76088828],\n",
       "       [-0.21829116, -1.51904685, -1.04079757,  0.33219379],\n",
       "       [ 0.43878155,  0.14986078, -1.79317247, -0.06561657]])"
      ]
     },
     "execution_count": 53,
     "metadata": {},
     "output_type": "execute_result"
    }
   ],
   "source": [
    "#a = np.full((4,4), 16)\n",
    "#b = np.reshape(a, [2,4,2])\n",
    "azar2 = np.random.randn(4,4)\n",
    "azar2\n"
   ]
  },
  {
   "cell_type": "code",
   "execution_count": 57,
   "metadata": {},
   "outputs": [
    {
     "data": {
      "text/plain": [
       "array([[[-0.47818278,  0.0440484 ],\n",
       "        [-0.53872928,  0.85424626],\n",
       "        [-0.45215686,  1.19078856],\n",
       "        [-1.6874638 , -0.76088828]],\n",
       "\n",
       "       [[-0.21829116, -1.51904685],\n",
       "        [-1.04079757,  0.33219379],\n",
       "        [ 0.43878155,  0.14986078],\n",
       "        [-1.79317247, -0.06561657]]])"
      ]
     },
     "execution_count": 57,
     "metadata": {},
     "output_type": "execute_result"
    }
   ],
   "source": [
    "b = np.reshape(azar2, (2,4,2))\n",
    "b\n",
    "#print(b.dtype)"
   ]
  },
  {
   "cell_type": "code",
   "execution_count": 62,
   "metadata": {},
   "outputs": [
    {
     "name": "stdout",
     "output_type": "stream",
     "text": [
      "[[1 2 3]\n",
      " [4 5 6]\n",
      " [7 8 9]]\n"
     ]
    }
   ],
   "source": [
    "matriz = np.arange(1,10).reshape(3,3)\n",
    "print(matriz)"
   ]
  },
  {
   "cell_type": "code",
   "execution_count": 70,
   "metadata": {},
   "outputs": [
    {
     "data": {
      "text/plain": [
       "array([[2, 3],\n",
       "       [5, 6],\n",
       "       [8, 9]])"
      ]
     },
     "execution_count": 70,
     "metadata": {},
     "output_type": "execute_result"
    }
   ],
   "source": [
    "#matriz[1,1]\n",
    "#matriz[0,:]\n",
    "#matriz[:, 1]\n",
    "matriz[:, 1:]"
   ]
  },
  {
   "cell_type": "code",
   "execution_count": 76,
   "metadata": {},
   "outputs": [
    {
     "name": "stdout",
     "output_type": "stream",
     "text": [
      "[ 0  2  4  6  8 10 12 14 16 18]\n"
     ]
    },
    {
     "data": {
      "text/plain": [
       "array([[ True, False,  True, False,  True, False,  True, False,  True,\n",
       "        False],\n",
       "       [ True, False,  True, False,  True, False,  True, False,  True,\n",
       "        False]])"
      ]
     },
     "execution_count": 76,
     "metadata": {},
     "output_type": "execute_result"
    }
   ],
   "source": [
    "a = np.arange(20).reshape(2,10)\n",
    "mascara = a % 2 == 0\n",
    "print(a[mascara])\n",
    "mascara"
   ]
  }
 ],
 "metadata": {
  "kernelspec": {
   "display_name": "Python 3.9.7 64-bit",
   "language": "python",
   "name": "python3"
  },
  "language_info": {
   "codemirror_mode": {
    "name": "ipython",
    "version": 3
   },
   "file_extension": ".py",
   "mimetype": "text/x-python",
   "name": "python",
   "nbconvert_exporter": "python",
   "pygments_lexer": "ipython3",
   "version": "3.9.7"
  },
  "orig_nbformat": 4,
  "vscode": {
   "interpreter": {
    "hash": "11938c6bc6919ae2720b4d5011047913343b08a43b18698fd82dedb0d4417594"
   }
  }
 },
 "nbformat": 4,
 "nbformat_minor": 2
}
